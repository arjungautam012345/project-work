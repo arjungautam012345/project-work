{
 "cells": [
  {
   "cell_type": "code",
   "execution_count": 1,
   "id": "bb8210d2",
   "metadata": {},
   "outputs": [],
   "source": [
    "from matplotlib import pyplot as plt\n",
    "import numpy as np"
   ]
  },
  {
   "cell_type": "code",
   "execution_count": 2,
   "id": "ba61de0a",
   "metadata": {},
   "outputs": [],
   "source": [
    "dx=0.01\n",
    "\n",
    "x=np.arange(-3,3+dx,dx)\n",
    "\n",
    "v0=36\n",
    "m=1\n",
    "N=x.size"
   ]
  },
  {
   "cell_type": "code",
   "execution_count": 3,
   "id": "931e100d",
   "metadata": {},
   "outputs": [
    {
     "data": {
      "text/plain": [
       "601"
      ]
     },
     "execution_count": 3,
     "metadata": {},
     "output_type": "execute_result"
    }
   ],
   "source": [
    "N\n"
   ]
  },
  {
   "cell_type": "code",
   "execution_count": 4,
   "id": "5f660b57",
   "metadata": {},
   "outputs": [],
   "source": [
    "def V(x):\n",
    "    if(abs(x)<1):\n",
    "        return -v0\n",
    "    else:\n",
    "        return 0\n",
    "    "
   ]
  },
  {
   "cell_type": "code",
   "execution_count": 5,
   "id": "b5d1f095",
   "metadata": {},
   "outputs": [],
   "source": [
    "v=np.zeros(x.size)\n",
    "for i in range(x.size):\n",
    "    v[i]=V(x[i])\n",
    "    "
   ]
  },
  {
   "cell_type": "code",
   "execution_count": 6,
   "id": "d0ec0479",
   "metadata": {},
   "outputs": [
    {
     "data": {
      "image/png": "[encoded data removed]",
      "text/plain": [
       "<Figure size 432x288 with 1 Axes>"
      ]
     },
     "metadata": {
      "needs_background": "light"
     },
     "output_type": "display_data"
    }
   ],
   "source": [
    "plt.plot(x,v)\n",
    "plt.grid()"
   ]
  },
  {
   "cell_type": "code",
   "execution_count": 7,
   "id": "99078021",
   "metadata": {},
   "outputs": [],
   "source": [
    "hbar=1\n",
    "def k2(e,x):\n",
    "    k=2*(e-V(x))\n",
    "    return k"
   ]
  },
  {
   "cell_type": "code",
   "execution_count": 8,
   "id": "058b46c9",
   "metadata": {},
   "outputs": [],
   "source": [
    "psi=np.zeros(N)\n",
    "b=(dx**2)/12\n",
    "def wavefunction(e):\n",
    "    count=0\n",
    "    for i in range(1,N-1):\n",
    "        psi[0]=0\n",
    "        psi[1]=1e-5\n",
    "        psi[i+1]=(2*psi[i]*(1-5*b*k2(e,x[i]))-(1+b*k2(e,x[i-1]))*psi[i-1])/(1+b*k2(e,x[i+1]))\n",
    "    return psi\n"
   ]
  },
  {
   "cell_type": "code",
   "execution_count": 9,
   "id": "a4d11ea4",
   "metadata": {},
   "outputs": [],
   "source": [
    "def countnodes(e):\n",
    "    count=0\n",
    "    for i in range(1,N-1):\n",
    "        if(wavefunction(e)[i+1]==0):\n",
    "            wavefunction(e)[i+1]\n",
    "        if np.sign(wavefunction(e)[i])!=np.sign(wavefunction(e)[i+1]):\n",
    "            count=count+1\n",
    "    return count\n"
   ]
  },
  {
   "cell_type": "code",
   "execution_count": 10,
   "id": "027ad41d",
   "metadata": {},
   "outputs": [],
   "source": [
    "lpsi=np.zeros(N)\n",
    "def lwavefunction(e):\n",
    "    for i in range(N-2,0,-1):\n",
    "        lpsi[N-1]=0\n",
    "        lpsi[N-2]=-1e-5\n",
    "        lpsi[i-1]=(2*lpsi[i]*(1-5*b*k2(e,x[i]))-(1+b*k2(e,x[i+1]))*lpsi[i+1])/(1+b*k2(e,x[i-1]))\n",
    "    return lpsi\n"
   ]
  },
  {
   "cell_type": "code",
   "execution_count": 11,
   "id": "48045ea7",
   "metadata": {},
   "outputs": [],
   "source": [
    "def normalize(e,z):\n",
    "    for i in range(0,N-1):\n",
    "        asum=0\n",
    "        asum=asum+z[i]*z[i]\n",
    "    g=1/np.sqrt(asum*dx)\n",
    "    t=g*z\n",
    "    return t\n",
    "m=300"
   ]
  },
  {
   "cell_type": "code",
   "execution_count": 12,
   "id": "e48b8944",
   "metadata": {},
   "outputs": [],
   "source": [
    "def matching(e):\n",
    "    l=wavefunction(e)\n",
    "    r=lwavefunction(e)\n",
    "    icl=m\n",
    "    c=np.abs(l[m]/r[m])\n",
    "    p=r*c\n",
    "    d=np.zeros((icl))\n",
    "    c=np.zeros(N-icl)\n",
    "    c=p[icl:N]\n",
    "    d=l[0:icl]\n",
    "    f=np.concatenate((d,c))\n",
    "    return f\n"
   ]
  },
  {
   "cell_type": "code",
   "execution_count": 13,
   "id": "7327c4fa",
   "metadata": {},
   "outputs": [],
   "source": [
    "def checking(e):\n",
    "    icl=300\n",
    "    return matching(e)[icl+1]+matching(e)[icl-1]-2*matching(e)[icl]"
   ]
  },
  {
   "cell_type": "code",
   "execution_count": 23,
   "id": "55353ca0",
   "metadata": {},
   "outputs": [
    {
     "name": "stdout",
     "output_type": "stream",
     "text": [
      "-20.73257455753628\n"
     ]
    }
   ],
   "source": [
    "emin=-30\n",
    "emax=-18\n",
    "for i in range(200):\n",
    "    e=0.5*(emin+emax)\n",
    "    if(checking(emax)*checking(e)<0):\n",
    "        emin=e\n",
    "    else:\n",
    "        emax=e\n",
    "    if(np.abs(checking(e))<1e-8):\n",
    "        print(e)\n",
    "        break"
   ]
  },
  {
   "cell_type": "code",
   "execution_count": 24,
   "id": "82754743",
   "metadata": {
    "scrolled": true
   },
   "outputs": [
    {
     "data": {
      "text/plain": [
       "[<matplotlib.lines.Line2D at 0x277bdb88df0>]"
      ]
     },
     "execution_count": 24,
     "metadata": {},
     "output_type": "execute_result"
    },
    {
     "data": {
      "image/png": "[encoded data removed]",
      "text/plain": [
       "<Figure size 432x288 with 1 Axes>"
      ]
     },
     "metadata": {
      "needs_background": "light"
     },
     "output_type": "display_data"
    }
   ],
   "source": [
    "plt.plot(x,matching(-20.5040504))\n"
   ]
  },
  {
   "cell_type": "code",
   "execution_count": 25,
   "id": "150c290c",
   "metadata": {},
   "outputs": [
    {
     "data": {
      "image/png": "[encoded data removed]",
      "text/plain": [
       "<Figure size 720x360 with 1 Axes>"
      ]
     },
     "metadata": {
      "needs_background": "light"
     },
     "output_type": "display_data"
    }
   ],
   "source": [
    "plt.figure(figsize=(10,5))\n",
    "plt.plot(x,normalize(e,matching(-20.5040504))**2,color=\"green\",lw=2,label=\"probablity density\")\n",
    "plt.xlabel(\"x-axis\",fontweight=\"bold\",color=\"red\")\n",
    "plt.ylabel(\"wavefunction\",fontweight=\"bold\",color=\"red\")\n",
    "plt.legend()\n",
    "plt.grid()"
   ]
  },
  {
   "cell_type": "code",
   "execution_count": null,
   "id": "0198cff3",
   "metadata": {},
   "outputs": [],
   "source": []
  },
  {
   "cell_type": "code",
   "execution_count": null,
   "id": "35b7b022",
   "metadata": {},
   "outputs": [],
   "source": []
  }
 ],
 "metadata": {
  "kernelspec": {
   "display_name": "Python 3 (ipykernel)",
   "language": "python",
   "name": "python3"
  },
  "language_info": {
   "codemirror_mode": {
    "name": "ipython",
    "version": 3
   },
   "file_extension": ".py",
   "mimetype": "text/x-python",
   "name": "python",
   "nbconvert_exporter": "python",
   "pygments_lexer": "ipython3",
   "version": "3.10.4"
  }
 },
 "nbformat": 4,
 "nbformat_minor": 5
}
