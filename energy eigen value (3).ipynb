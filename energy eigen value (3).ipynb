{
 "cells": [
  {
   "cell_type": "code",
   "execution_count": 1,
   "id": "c8dc9b2b",
   "metadata": {},
   "outputs": [],
   "source": [
    "import numpy as np\n",
    "from matplotlib import pyplot as plt"
   ]
  },
  {
   "cell_type": "code",
   "execution_count": 2,
   "id": "f88310f5",
   "metadata": {},
   "outputs": [],
   "source": [
    "dx=0.01\n",
    "x=np.arange(0,1+dx,dx)\n",
    "N=x.size\n",
    "f=1\n",
    "m=1\n",
    "w=2*np.pi*f\n",
    "k=m*w**2"
   ]
  },
  {
   "cell_type": "code",
   "execution_count": 3,
   "id": "5fc0f875",
   "metadata": {},
   "outputs": [],
   "source": [
    "def V(x):\n",
    "    return k*x**2\n",
    "\n"
   ]
  },
  {
   "cell_type": "code",
   "execution_count": 4,
   "id": "7157c46a",
   "metadata": {},
   "outputs": [],
   "source": [
    "hbar=1\n",
    "def k2(e,x):\n",
    "    k=(2*m/hbar**2)*(e-V(x))\n",
    "    return k"
   ]
  },
  {
   "cell_type": "code",
   "execution_count": 5,
   "id": "6ef806a8",
   "metadata": {},
   "outputs": [],
   "source": [
    "psi=np.zeros(N)\n",
    "b=(dx**2)/12\n",
    "\n",
    "def wavefunction(e):\n",
    "    for i in range(1,N-1):\n",
    "        if(n%2==0):\n",
    "            psi[0]=1\n",
    "            psi[1]=(1-5*b*k2(e,x[0]))/(1+b*k2(e,x[1]))\n",
    "        else:\n",
    "            psi[0]=0\n",
    "            psi[1]=dx\n",
    "        psi[i+1]=(2*psi[i]*(1-5*b*k2(e,x[i]))-(1+b*k2(e,x[i-1]))*psi[i-1])/(1+b*k2(e,x[i+1]))\n",
    "        \n",
    "        \n",
    "    return psi"
   ]
  },
  {
   "cell_type": "code",
   "execution_count": 6,
   "id": "62be760a",
   "metadata": {},
   "outputs": [],
   "source": [
    "def countnodes(e):\n",
    "    count=0\n",
    "    for i in range(1,N-1):\n",
    "        if(wavefunction(e)[i+1]==0):\n",
    "            wavefunction(e)[i+1]=1e-8\n",
    "        if np.sign(wavefunction(e)[i])!=np.sign(wavefunction(e)[i+1]):\n",
    "            count=count+1\n",
    "    return count\n"
   ]
  },
  {
   "cell_type": "code",
   "execution_count": 7,
   "id": "e81233ef",
   "metadata": {},
   "outputs": [
    {
     "name": "stdout",
     "output_type": "stream",
     "text": [
      "2.5\n"
     ]
    }
   ],
   "source": [
    "n=0\n",
    "\n",
    "nodes=n\n",
    "emin=0\n",
    "emax=10\n",
    "for i in range(200):\n",
    "    e=0.5*(emin+emax)\n",
    "    if(countnodes(e)<nodes):\n",
    "        emin=e\n",
    "    if(countnodes(e)>nodes):\n",
    "        emax=e\n",
    "    if(countnodes(e)==nodes):\n",
    "        print(e)\n",
    "        break"
   ]
  },
  {
   "cell_type": "code",
   "execution_count": 8,
   "id": "f33dae2a",
   "metadata": {},
   "outputs": [],
   "source": [
    "def matchingpoint(e):\n",
    "    for i in range(0,N-1):\n",
    "        if(k2(e,x[i])*k2(e,x[i+1]))<0:\n",
    "            break\n",
    "    return i\n"
   ]
  },
  {
   "cell_type": "code",
   "execution_count": 9,
   "id": "d4c7b2f7",
   "metadata": {},
   "outputs": [],
   "source": [
    "def normalize(e,p):\n",
    "    for i in range(0,N-1):\n",
    "        asum=0\n",
    "        asum=asum+p[i]*p[i]\n",
    "    g=1/np.sqrt(asum*dx)\n",
    "    t=g*p\n",
    "    return t\n"
   ]
  },
  {
   "cell_type": "code",
   "execution_count": 10,
   "id": "7a1b35b7",
   "metadata": {},
   "outputs": [
    {
     "data": {
      "text/plain": [
       "[<matplotlib.lines.Line2D at 0x2a33d0a6b60>]"
      ]
     },
     "execution_count": 10,
     "metadata": {},
     "output_type": "execute_result"
    },
    {
     "data": {
      "image/png": "[encoded data removed]",
      "text/plain": [
       "<Figure size 432x288 with 1 Axes>"
      ]
     },
     "metadata": {
      "needs_background": "light"
     },
     "output_type": "display_data"
    }
   ],
   "source": [
    "lpsi=np.zeros(N)\n",
    "def lwavefunction(e):\n",
    "    for i in range(N-2,0,-1):\n",
    "        lpsi[N-1]=0\n",
    "        lpsi[N-2]=dx\n",
    "        lpsi[i-1]=(2*lpsi[i]*(1-5*b*k2(e,x[i]))-(1+b*k2(e,x[i+1]))*lpsi[i+1])/(1+b*k2(e,x[i-1]))\n",
    "    return lpsi\n",
    "plt.plot(x,normalize(e,wavefunction(e)))\n",
    "#plt.plot(x,normalize(e,lwavefunction(e)))\n",
    "        "
   ]
  },
  {
   "cell_type": "code",
   "execution_count": 13,
   "id": "f713f692",
   "metadata": {},
   "outputs": [
    {
     "data": {
      "text/plain": [
       "-0.022435746950452806"
      ]
     },
     "execution_count": 13,
     "metadata": {},
     "output_type": "execute_result"
    }
   ],
   "source": [
    "def matching(e):\n",
    "    \n",
    "    l=normalize(e,wavefunction(e))\n",
    "    r=normalize(e,lwavefunction(e))\n",
    "    icl=matchingpoint(e)\n",
    "    m=l[icl]/r[icl]\n",
    "    p=r*m\n",
    "    d=np.zeros((icl))\n",
    "    c=np.zeros(N-icl)\n",
    "    c=p[icl:N]\n",
    "    d=l[0:icl]\n",
    "    f=np.concatenate((d,c))\n",
    "    return f\n",
    "def checking(e):\n",
    "    icl=matchingpoint(e)\n",
    "    return matching(e)[icl+1]+matching(e)[icl-1]-2*matching(e)[icl]\n",
    "checking(e)\n"
   ]
  },
  {
   "cell_type": "code",
   "execution_count": 14,
   "id": "13fad908",
   "metadata": {},
   "outputs": [
    {
     "name": "stdout",
     "output_type": "stream",
     "text": [
      "4.448667721853781\n"
     ]
    }
   ],
   "source": [
    "for i in range(100):\n",
    "    e=0.5*(emin+emax)\n",
    "    if(checking(emax)*checking(e)<0):\n",
    "        emin=e\n",
    "    else:\n",
    "        emax=e\n",
    "    if(np.abs(checking(e))<1e-10):\n",
    "        print(e)\n",
    "        break\n",
    "        \n",
    "    \n",
    "    \n",
    "    \n"
   ]
  },
  {
   "cell_type": "code",
   "execution_count": 15,
   "id": "89f8a090",
   "metadata": {},
   "outputs": [
    {
     "data": {
      "text/plain": [
       "[<matplotlib.lines.Line2D at 0x2a33f1d1a20>]"
      ]
     },
     "execution_count": 15,
     "metadata": {},
     "output_type": "execute_result"
    },
    {
     "data": {
      "image/png": "[encoded data removed]",
      "text/plain": [
       "<Figure size 432x288 with 1 Axes>"
      ]
     },
     "metadata": {
      "needs_background": "light"
     },
     "output_type": "display_data"
    }
   ],
   "source": [
    "plt.plot(x,matching(e))\n",
    "plt.plot(-x,matching(e))"
   ]
  },
  {
   "cell_type": "code",
   "execution_count": null,
   "id": "5efada87",
   "metadata": {},
   "outputs": [],
   "source": []
  },
  {
   "cell_type": "code",
   "execution_count": null,
   "id": "03e05997",
   "metadata": {},
   "outputs": [],
   "source": []
  },
  {
   "cell_type": "code",
   "execution_count": null,
   "id": "f80576f7",
   "metadata": {},
   "outputs": [],
   "source": []
  }
 ],
 "metadata": {
  "kernelspec": {
   "display_name": "Python 3 (ipykernel)",
   "language": "python",
   "name": "python3"
  },
  "language_info": {
   "codemirror_mode": {
    "name": "ipython",
    "version": 3
   },
   "file_extension": ".py",
   "mimetype": "text/x-python",
   "name": "python",
   "nbconvert_exporter": "python",
   "pygments_lexer": "ipython3",
   "version": "3.10.4"
  }
 },
 "nbformat": 4,
 "nbformat_minor": 5
}
